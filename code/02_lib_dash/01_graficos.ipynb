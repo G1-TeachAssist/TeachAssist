{
 "cells": [
  {
   "cell_type": "code",
   "execution_count": 1,
   "metadata": {},
   "outputs": [],
   "source": [
    "from faker import Faker\n",
    "import pandas as pd\n",
    "import random\n",
    "import dash\n",
    "import datetime\n",
    "import re\n",
    "import plotly.graph_objs as go\n",
    "from dash import dcc, html\n",
    "from dash.dependencies import Input, Output\n",
    "\n",
    "# Configurar o pandas para exibir todas as linhas e colunas\n",
    "pd.set_option('display.max_rows', None)\n",
    "pd.set_option('display.max_columns', None)"
   ]
  },
  {
   "cell_type": "markdown",
   "metadata": {},
   "source": [
    "# Lista de data frames criados"
   ]
  },
  {
   "cell_type": "code",
   "execution_count": 14,
   "metadata": {},
   "outputs": [
    {
     "name": "stdout",
     "output_type": "stream",
     "text": [
      "Variable                Type         Data/Info\n",
      "----------------------------------------------\n",
      "Faker                   type         <class 'faker.proxy.Faker'>\n",
      "Input                   type         <class 'dash.dependencies.Input'>\n",
      "Output                  type         <class 'dash.dependencies.Output'>\n",
      "aluno_df                DataFrame        id              nome\\<...>n19  20       Alexis Lara\n",
      "app                     Dash         <dash.dash.Dash object at 0x00000251199B5520>\n",
      "dash                    module       <module 'dash' from 'c:\\\\<...>ages\\\\dash\\\\__init__.py'>\n",
      "datetime                module       <module 'datetime' from '<...>hon39\\\\lib\\\\datetime.py'>\n",
      "dcc                     module       <module 'dash.dcc' from '<...>\\dash\\\\dcc\\\\__init__.py'>\n",
      "disciplina_df           DataFrame       id codigo        nome\\<...>n4   5    QUI     Química\n",
      "go                      module       <module 'plotly.graph_obj<...>graph_objs\\\\__init__.py'>\n",
      "grafico_layout          Div          Div([Graph(id='grafico-media-notas')])\n",
      "html                    module       <module 'dash.html' from <...>dash\\\\html\\\\__init__.py'>\n",
      "kpis_layout             Div          Div([Div(children=[Div(ch<...> className='container')])\n",
      "media_final_df          DataFrame        disciplina_id  aluno_<...>  2        5.50      True\n",
      "media_notas_turma       Series       turma_id\\n1      9.3\\n3  <...>dia_final, dtype: float64\n",
      "media_total             float64      5.441249999999999\n",
      "notas_aluno_agrupadas   DataFrame        turma_id  aluno_id  m<...>00         2          2.9\n",
      "notas_df                DataFrame        turma_id  aluno_id  n<...> 100         2   2.9   P2\n",
      "num_alunos              int          20\n",
      "num_disciplinas         int          5\n",
      "pd                      module       <module 'pandas' from 'c:<...>es\\\\pandas\\\\__init__.py'>\n",
      "professor_df            DataFrame       id              nome  <...>     mariah02@example.net\n",
      "random                  module       <module 'random' from 'C:<...>ython39\\\\lib\\\\random.py'>\n",
      "re                      module       <module 're' from 'C:\\\\Us<...>n\\\\Python39\\\\lib\\\\re.py'>\n",
      "turma_df                DataFrame         id  professor_id  di<...>)/2                 5.0  \n",
      "update_graph            function     <function update_graph at 0x0000025119A09D30>\n",
      "update_kpis             function     <function update_kpis at 0x0000025119A09B80>\n"
     ]
    }
   ],
   "source": [
    "whos"
   ]
  },
  {
   "cell_type": "markdown",
   "metadata": {},
   "source": [
    "# Criando Tabelas com dados fakes"
   ]
  },
  {
   "cell_type": "code",
   "execution_count": 2,
   "metadata": {},
   "outputs": [],
   "source": [
    "# [OPCIONAL] Importar cada DataFrame ja criado\n",
    "professor_df = pd.read_csv('professor_df.csv')\n",
    "aluno_df =pd.read_csv('aluno_df.csv')\n",
    "disciplina_df = pd.read_csv('disciplina_df.csv')\n",
    "turma_df = pd.read_csv('turma_df.csv')\n",
    "notas_df = pd.read_csv('notas_df.csv')\n",
    "media_final_df = pd.read_csv('media_final_df.csv')"
   ]
  },
  {
   "cell_type": "markdown",
   "metadata": {},
   "source": [
    "## Tabelas: Professor, Aluno e Disciplina"
   ]
  },
  {
   "cell_type": "code",
   "execution_count": null,
   "metadata": {},
   "outputs": [],
   "source": [
    "fake = Faker()\n",
    "\n",
    "# Criando a tabela Professor\n",
    "num_professores = 5\n",
    "professor_data = {\n",
    "    'id': range(1, num_professores + 1),\n",
    "    'nome': [fake.name() for _ in range(num_professores)],\n",
    "    'email': [fake.email() for _ in range(num_professores)]\n",
    "}\n",
    "professor_df = pd.DataFrame(professor_data)\n",
    "\n",
    "# Criando a tabela Aluno\n",
    "num_alunos = 20\n",
    "aluno_data = {\n",
    "    'id': range(1, num_alunos + 1),\n",
    "    'nome': [fake.name() for _ in range(num_alunos)]\n",
    "}\n",
    "aluno_df = pd.DataFrame(aluno_data)\n",
    "\n",
    "# Criando a tabela Disciplina\n",
    "num_dis = 5\n",
    "disciplina_data = {\n",
    "    'id': range(1, num_dis + 1),\n",
    "    'codigo': ['MAT', 'FIS', 'BIO', 'HIS', 'QUI'],\n",
    "    'nome': ['Matemática', 'Física', 'Biologia', 'História', 'Química']\n",
    "}\n",
    "disciplina_df = pd.DataFrame(disciplina_data)\n"
   ]
  },
  {
   "cell_type": "markdown",
   "metadata": {},
   "source": [
    "## Tabela: Turma"
   ]
  },
  {
   "cell_type": "code",
   "execution_count": null,
   "metadata": {},
   "outputs": [],
   "source": [
    "fake = Faker()\n",
    "\n",
    "# Criando a tabela Turma\n",
    "turma_data = []\n",
    "id = 1\n",
    "\n",
    "# Preencher os dados da turma para cada professor\n",
    "for index, row in professor_df.iterrows():\n",
    "    professor_id = row['id']\n",
    "    disciplina_id = index + 1\n",
    "\n",
    "    # Selecionar aleatoriamente 10 alunos para cada disciplina\n",
    "    alunos_ids = random.sample(range(1, num_alunos + 1), 10)\n",
    "    status = random.choice(['Em andamento', 'Notas pendentes', 'Finalizada'])  # Variando o status\n",
    "    \n",
    "    for aluno_id in alunos_ids:\n",
    "        turma_id = int(f\"{professor_id}{disciplina_id}\")\n",
    "        \n",
    "        # Primeira prova (entre março e abril)\n",
    "        turma_data.append({\n",
    "            'id': id,\n",
    "            'prof_disc_id': turma_id,\n",
    "            'professor_id': professor_id,\n",
    "            'disciplina_id': disciplina_id,\n",
    "            'aluno_id': aluno_id,\n",
    "            'started_at': fake.date_time_between_dates(datetime_start=pd.to_datetime('2023-03-01'), \n",
    "                                                       datetime_end=pd.to_datetime('2023-04-30')).strftime('%Y-%m-%d'),\n",
    "            'tipo': 'Semestral',\n",
    "            'status': 'Finalizada',\n",
    "            'logica_nota_final': '(P1+P2)/2',\n",
    "            'media_final_minima': 5.0\n",
    "        })\n",
    "        id += 1\n",
    "\n",
    "        # Segunda prova (entre maio e junho) e variamos o status\n",
    "        turma_data.append({\n",
    "            'id': id,\n",
    "            'prof_disc_id': turma_id,\n",
    "            'professor_id': professor_id,\n",
    "            'disciplina_id': disciplina_id,\n",
    "            'aluno_id': aluno_id,\n",
    "            'started_at': fake.date_time_between_dates(datetime_start=pd.to_datetime('2023-05-01'), \n",
    "                                                       datetime_end=pd.to_datetime('2023-06-30')).strftime('%Y-%m-%d'),\n",
    "            'tipo': 'Semestral',\n",
    "            'status': status,\n",
    "            'logica_nota_final': '(P1+P2)/2',\n",
    "            'media_final_minima': 5.0\n",
    "        })\n",
    "        id += 1\n",
    "\n",
    "turma_df = pd.DataFrame(turma_data)"
   ]
  },
  {
   "cell_type": "code",
   "execution_count": 3,
   "metadata": {},
   "outputs": [
    {
     "name": "stdout",
     "output_type": "stream",
     "text": [
      "status         Em andamento  Finalizada  Notas pendentes\n",
      "disciplina_id                                           \n",
      "1                         0           0               10\n",
      "2                         0          10                0\n",
      "3                         0          10                0\n",
      "4                        10           0                0\n",
      "5                         0          10                0\n"
     ]
    }
   ],
   "source": [
    "# Calcular a distribuição do status por disciplina apenas para os dados filtrados\n",
    "print(turma_df.query(\"started_at > '2023-04-30'\").groupby(['disciplina_id', 'status']).size().unstack(fill_value=0))"
   ]
  },
  {
   "cell_type": "markdown",
   "metadata": {},
   "source": [
    "## Tabela: Nota"
   ]
  },
  {
   "cell_type": "code",
   "execution_count": null,
   "metadata": {},
   "outputs": [],
   "source": [
    "# Filtrar os dados da tabela turma_df para incluir apenas os casos em que o status é \"Finalizada\"\n",
    "turma_finalizada = turma_df[turma_df['status'] == 'Finalizada']\n",
    "\n",
    "# Criando a tabela Notas\n",
    "notas_data = []\n",
    "\n",
    "for index, row in turma_finalizada.iterrows():\n",
    "    turma_id = row['id']\n",
    "    aluno_id = row['aluno_id']\n",
    "    started_at = datetime.datetime.strptime(row['started_at'], '%Y-%m-%d')\n",
    "    \n",
    "    # Verificar o tipo de nota com base no started_at\n",
    "    if started_at.month in [3, 4]:\n",
    "        tipo_nota = 'P1'\n",
    "    elif started_at.month in [5, 6]:\n",
    "        tipo_nota = 'P2'\n",
    "    else:\n",
    "        continue  # Ignorar se o started_at estiver fora dos períodos desejados\n",
    "    \n",
    "    # Gerar notas para cada tipo (P1, P2)\n",
    "    nota = round(random.uniform(1, 10), 1)  # Gerando nota aleatória entre 1 e 10\n",
    "    notas_data.append({\n",
    "        'turma_id': turma_id,\n",
    "        'aluno_id': aluno_id,\n",
    "        'nota': nota,\n",
    "        'aval': tipo_nota\n",
    "    })\n",
    "\n",
    "notas_df = pd.DataFrame(notas_data)\n"
   ]
  },
  {
   "cell_type": "markdown",
   "metadata": {},
   "source": [
    "## Tabela: Media_Final"
   ]
  },
  {
   "cell_type": "code",
   "execution_count": null,
   "metadata": {},
   "outputs": [],
   "source": [
    "# Criando a tabela de notas finais por disciplina\n",
    "media_final_data = []\n",
    "\n",
    "# Iterar sobre cada disciplina na tabela de turma\n",
    "for disciplina_id in turma_df['disciplina_id'].unique():\n",
    "    # Filtrar as notas correspondentes à disciplina na tabela de notas\n",
    "    notas_disciplina = notas_df.merge(turma_df, left_on=['turma_id','aluno_id'], right_on=['id','aluno_id'])\n",
    "    notas_disciplina = notas_disciplina[(notas_disciplina['disciplina_id'] == disciplina_id)]\n",
    "\n",
    "    # Iterar sobre cada aluno na disciplina\n",
    "    for aluno_id in notas_disciplina['aluno_id'].unique():\n",
    "        # Obter a lógica de notas finais para a disciplina atual\n",
    "        logica_nota_final = turma_df.loc[turma_df['disciplina_id'] == disciplina_id, 'logica_nota_final'].iloc[0]\n",
    "        media_final_minima = turma_df.loc[turma_df['disciplina_id'] == disciplina_id, 'media_final_minima'].iloc[0]\n",
    "\n",
    "        # Usar expressão regular para encontrar todas as variáveis na lógica\n",
    "        variaveis = re.findall(r'\\b\\w+\\b', logica_nota_final)\n",
    "        variaveis = [var for var in variaveis if var[0].isalpha()]\n",
    "\n",
    "        # Inicializar um dicionário para armazenar as notas correspondentes a cada variável\n",
    "        notas_aluno = {}\n",
    "\n",
    "        # Iterar sobre as variáveis e buscar as notas correspondentes nas observações de avaliação\n",
    "        for var in variaveis:\n",
    "            nota = notas_disciplina[(notas_disciplina['aluno_id'] == aluno_id) & (notas_disciplina['aval'] == var)]['nota'].values\n",
    "            if nota.size > 0:\n",
    "                notas_aluno[var] = nota[0]\n",
    "\n",
    "        # Substituir as variáveis na lógica pelas notas correspondentes e calcular a nota final\n",
    "        try:\n",
    "            # Substituir as variáveis na string de lógica pelo valor correspondente\n",
    "            for var, val in notas_aluno.items():\n",
    "                logica_nota_final = logica_nota_final.replace(var, str(val))\n",
    "            nota_final = eval(logica_nota_final)\n",
    "            \n",
    "            # Adicionar os dados à tabela de notas finais por disciplina\n",
    "            media_final_data.append({\n",
    "                'disciplina_id': disciplina_id,\n",
    "                'aluno_id': aluno_id,\n",
    "                'nota_final': nota_final,\n",
    "                'aprovado': nota_final >= media_final_minima\n",
    "            })\n",
    "        except:\n",
    "            print(f'Não foi possível calcular a nota final para o aluno {aluno_id} na disciplina {disciplina_id}.')\n",
    "\n",
    "# Criar DataFrame para a tabela de notas finais por disciplina\n",
    "media_final_df = pd.DataFrame(media_final_data)\n"
   ]
  },
  {
   "cell_type": "markdown",
   "metadata": {},
   "source": [
    "## Exemplo"
   ]
  },
  {
   "cell_type": "code",
   "execution_count": 4,
   "metadata": {},
   "outputs": [
    {
     "data": {
      "text/html": [
       "<div>\n",
       "<style scoped>\n",
       "    .dataframe tbody tr th:only-of-type {\n",
       "        vertical-align: middle;\n",
       "    }\n",
       "\n",
       "    .dataframe tbody tr th {\n",
       "        vertical-align: top;\n",
       "    }\n",
       "\n",
       "    .dataframe thead th {\n",
       "        text-align: right;\n",
       "    }\n",
       "</style>\n",
       "<table border=\"1\" class=\"dataframe\">\n",
       "  <thead>\n",
       "    <tr style=\"text-align: right;\">\n",
       "      <th></th>\n",
       "      <th>id</th>\n",
       "      <th>professor_id</th>\n",
       "      <th>disciplina_id</th>\n",
       "      <th>aluno_id</th>\n",
       "      <th>started_at</th>\n",
       "      <th>tipo</th>\n",
       "      <th>status</th>\n",
       "      <th>logica_nota_final</th>\n",
       "      <th>media_final_minima</th>\n",
       "    </tr>\n",
       "  </thead>\n",
       "  <tbody>\n",
       "    <tr>\n",
       "      <th>0</th>\n",
       "      <td>1</td>\n",
       "      <td>1</td>\n",
       "      <td>1</td>\n",
       "      <td>13</td>\n",
       "      <td>2023-04-28</td>\n",
       "      <td>Semestral</td>\n",
       "      <td>Finalizada</td>\n",
       "      <td>(P1+P2)/2</td>\n",
       "      <td>5.0</td>\n",
       "    </tr>\n",
       "    <tr>\n",
       "      <th>1</th>\n",
       "      <td>2</td>\n",
       "      <td>1</td>\n",
       "      <td>1</td>\n",
       "      <td>13</td>\n",
       "      <td>2023-05-30</td>\n",
       "      <td>Semestral</td>\n",
       "      <td>Notas pendentes</td>\n",
       "      <td>(P1+P2)/2</td>\n",
       "      <td>5.0</td>\n",
       "    </tr>\n",
       "    <tr>\n",
       "      <th>74</th>\n",
       "      <td>75</td>\n",
       "      <td>4</td>\n",
       "      <td>4</td>\n",
       "      <td>13</td>\n",
       "      <td>2023-04-17</td>\n",
       "      <td>Semestral</td>\n",
       "      <td>Finalizada</td>\n",
       "      <td>(P1+P2)/2</td>\n",
       "      <td>5.0</td>\n",
       "    </tr>\n",
       "    <tr>\n",
       "      <th>75</th>\n",
       "      <td>76</td>\n",
       "      <td>4</td>\n",
       "      <td>4</td>\n",
       "      <td>13</td>\n",
       "      <td>2023-05-31</td>\n",
       "      <td>Semestral</td>\n",
       "      <td>Em andamento</td>\n",
       "      <td>(P1+P2)/2</td>\n",
       "      <td>5.0</td>\n",
       "    </tr>\n",
       "    <tr>\n",
       "      <th>94</th>\n",
       "      <td>95</td>\n",
       "      <td>5</td>\n",
       "      <td>5</td>\n",
       "      <td>13</td>\n",
       "      <td>2023-04-14</td>\n",
       "      <td>Semestral</td>\n",
       "      <td>Finalizada</td>\n",
       "      <td>(P1+P2)/2</td>\n",
       "      <td>5.0</td>\n",
       "    </tr>\n",
       "    <tr>\n",
       "      <th>95</th>\n",
       "      <td>96</td>\n",
       "      <td>5</td>\n",
       "      <td>5</td>\n",
       "      <td>13</td>\n",
       "      <td>2023-05-15</td>\n",
       "      <td>Semestral</td>\n",
       "      <td>Finalizada</td>\n",
       "      <td>(P1+P2)/2</td>\n",
       "      <td>5.0</td>\n",
       "    </tr>\n",
       "  </tbody>\n",
       "</table>\n",
       "</div>"
      ],
      "text/plain": [
       "    id  professor_id  disciplina_id  aluno_id  started_at       tipo  \\\n",
       "0    1             1              1        13  2023-04-28  Semestral   \n",
       "1    2             1              1        13  2023-05-30  Semestral   \n",
       "74  75             4              4        13  2023-04-17  Semestral   \n",
       "75  76             4              4        13  2023-05-31  Semestral   \n",
       "94  95             5              5        13  2023-04-14  Semestral   \n",
       "95  96             5              5        13  2023-05-15  Semestral   \n",
       "\n",
       "             status logica_nota_final  media_final_minima  \n",
       "0        Finalizada         (P1+P2)/2                 5.0  \n",
       "1   Notas pendentes         (P1+P2)/2                 5.0  \n",
       "74       Finalizada         (P1+P2)/2                 5.0  \n",
       "75     Em andamento         (P1+P2)/2                 5.0  \n",
       "94       Finalizada         (P1+P2)/2                 5.0  \n",
       "95       Finalizada         (P1+P2)/2                 5.0  "
      ]
     },
     "execution_count": 4,
     "metadata": {},
     "output_type": "execute_result"
    }
   ],
   "source": [
    "turma_df.loc[turma_df['aluno_id'] == 13]"
   ]
  },
  {
   "cell_type": "code",
   "execution_count": 5,
   "metadata": {},
   "outputs": [
    {
     "data": {
      "text/html": [
       "<div>\n",
       "<style scoped>\n",
       "    .dataframe tbody tr th:only-of-type {\n",
       "        vertical-align: middle;\n",
       "    }\n",
       "\n",
       "    .dataframe tbody tr th {\n",
       "        vertical-align: top;\n",
       "    }\n",
       "\n",
       "    .dataframe thead th {\n",
       "        text-align: right;\n",
       "    }\n",
       "</style>\n",
       "<table border=\"1\" class=\"dataframe\">\n",
       "  <thead>\n",
       "    <tr style=\"text-align: right;\">\n",
       "      <th></th>\n",
       "      <th>turma_id</th>\n",
       "      <th>aluno_id</th>\n",
       "      <th>nota</th>\n",
       "      <th>aval</th>\n",
       "    </tr>\n",
       "  </thead>\n",
       "  <tbody>\n",
       "    <tr>\n",
       "      <th>0</th>\n",
       "      <td>1</td>\n",
       "      <td>13</td>\n",
       "      <td>9.3</td>\n",
       "      <td>P1</td>\n",
       "    </tr>\n",
       "    <tr>\n",
       "      <th>57</th>\n",
       "      <td>75</td>\n",
       "      <td>13</td>\n",
       "      <td>9.3</td>\n",
       "      <td>P1</td>\n",
       "    </tr>\n",
       "    <tr>\n",
       "      <th>74</th>\n",
       "      <td>95</td>\n",
       "      <td>13</td>\n",
       "      <td>7.3</td>\n",
       "      <td>P1</td>\n",
       "    </tr>\n",
       "    <tr>\n",
       "      <th>75</th>\n",
       "      <td>96</td>\n",
       "      <td>13</td>\n",
       "      <td>3.5</td>\n",
       "      <td>P2</td>\n",
       "    </tr>\n",
       "  </tbody>\n",
       "</table>\n",
       "</div>"
      ],
      "text/plain": [
       "    turma_id  aluno_id  nota aval\n",
       "0          1        13   9.3   P1\n",
       "57        75        13   9.3   P1\n",
       "74        95        13   7.3   P1\n",
       "75        96        13   3.5   P2"
      ]
     },
     "execution_count": 5,
     "metadata": {},
     "output_type": "execute_result"
    }
   ],
   "source": [
    "notas_df.loc[notas_df['aluno_id'] == 13]"
   ]
  },
  {
   "cell_type": "code",
   "execution_count": 6,
   "metadata": {},
   "outputs": [
    {
     "data": {
      "text/html": [
       "<div>\n",
       "<style scoped>\n",
       "    .dataframe tbody tr th:only-of-type {\n",
       "        vertical-align: middle;\n",
       "    }\n",
       "\n",
       "    .dataframe tbody tr th {\n",
       "        vertical-align: top;\n",
       "    }\n",
       "\n",
       "    .dataframe thead th {\n",
       "        text-align: right;\n",
       "    }\n",
       "</style>\n",
       "<table border=\"1\" class=\"dataframe\">\n",
       "  <thead>\n",
       "    <tr style=\"text-align: right;\">\n",
       "      <th></th>\n",
       "      <th>disciplina_id</th>\n",
       "      <th>aluno_id</th>\n",
       "      <th>nota_final</th>\n",
       "      <th>aprovado</th>\n",
       "    </tr>\n",
       "  </thead>\n",
       "  <tbody>\n",
       "    <tr>\n",
       "      <th>27</th>\n",
       "      <td>5</td>\n",
       "      <td>13</td>\n",
       "      <td>5.4</td>\n",
       "      <td>True</td>\n",
       "    </tr>\n",
       "  </tbody>\n",
       "</table>\n",
       "</div>"
      ],
      "text/plain": [
       "    disciplina_id  aluno_id  nota_final  aprovado\n",
       "27              5        13         5.4      True"
      ]
     },
     "execution_count": 6,
     "metadata": {},
     "output_type": "execute_result"
    }
   ],
   "source": [
    "media_final_df.loc[media_final_df['aluno_id'] == 13]"
   ]
  },
  {
   "cell_type": "markdown",
   "metadata": {},
   "source": [
    "# Graficos"
   ]
  },
  {
   "cell_type": "markdown",
   "metadata": {},
   "source": [
    "### Parte 1: Definição dos dados"
   ]
  },
  {
   "cell_type": "code",
   "execution_count": 7,
   "metadata": {},
   "outputs": [],
   "source": [
    "# Tabelas fornecidas\n",
    "# professor_df, aluno_df, disciplina_df, turma_df, notas_df\n",
    "\n",
    "# Agrupando as notas por turma e aluno\n",
    "notas_aluno_agrupadas = notas_df.groupby(['turma_id', 'aluno_id']).agg(media_final=('nota', 'mean')).reset_index()\n",
    "\n",
    "# Juntando as tabelas turma_df e notas_aluno_agrupadas para obter a média das notas por turma\n",
    "media_notas_turma = turma_df.merge(notas_aluno_agrupadas, left_on=['id', 'aluno_id'], right_on=['turma_id', 'aluno_id']).groupby('turma_id')['media_final'].mean()\n",
    "\n",
    "# Calcular a média total das notas\n",
    "media_total = media_notas_turma.mean()\n",
    "\n",
    "# Contar o número de disciplinas e alunos\n",
    "num_disciplinas = len(disciplina_df)\n",
    "num_alunos = len(aluno_df)\n",
    "\n"
   ]
  },
  {
   "cell_type": "markdown",
   "metadata": {},
   "source": [
    "### Parte 2: Criação dos KPIs"
   ]
  },
  {
   "cell_type": "code",
   "execution_count": 8,
   "metadata": {},
   "outputs": [],
   "source": [
    "# Inicializar a aplicação Dash\n",
    "app = dash.Dash(__name__)\n",
    "\n",
    "# Layout dos KPIs\n",
    "kpis_layout = html.Div([\n",
    "    html.Div([\n",
    "        html.Div([\n",
    "            html.H2('Média Total das Notas'),\n",
    "            html.H3(id='media-total-notas')\n",
    "        ], className='kpis'),\n",
    "        html.Div([\n",
    "            html.H2('Número de Disciplinas'),\n",
    "            html.H3(id='num-disciplinas')\n",
    "        ], className='kpis'),\n",
    "        html.Div([\n",
    "            html.H2('Número de Alunos'),\n",
    "            html.H3(id='num-alunos')\n",
    "        ], className='kpis')\n",
    "    ], className='container', id='kpis-container')  # Verifique se o ID 'kpis-container' está definido corretamente aqui\n",
    "])\n"
   ]
  },
  {
   "cell_type": "markdown",
   "metadata": {},
   "source": [
    "### Parte 3: Definição do Gráfico de Barras"
   ]
  },
  {
   "cell_type": "code",
   "execution_count": 9,
   "metadata": {},
   "outputs": [],
   "source": [
    "# Layout do Gráfico de Barras\n",
    "grafico_layout = html.Div([\n",
    "    dcc.Graph(id='grafico-media-notas')\n",
    "])"
   ]
  },
  {
   "cell_type": "markdown",
   "metadata": {},
   "source": [
    "### Parte 4: Definição das callbacks"
   ]
  },
  {
   "cell_type": "code",
   "execution_count": 10,
   "metadata": {},
   "outputs": [],
   "source": [
    "# Callback para atualizar o gráfico com os dados da média das notas por turma\n",
    "@app.callback(\n",
    "    Output('grafico-media-notas', 'figure'),\n",
    "    [Input('dropdown-turma', 'value')]\n",
    ")\n",
    "def update_graph(selected_turma_ids):\n",
    "    if not selected_turma_ids:  # Se nenhuma turma for selecionada, não faça nada\n",
    "        return go.Figure()\n",
    "\n",
    "    # Filtrar o DataFrame media_notas_turma com base nas turmas selecionadas\n",
    "    media_notas_turma_filtrado = media_notas_turma[media_notas_turma.index.isin(selected_turma_ids)]\n",
    "\n",
    "    # Criar o gráfico de barras\n",
    "    data = []\n",
    "    tickvals = []\n",
    "    ticktext = []\n",
    "    for i, (turma_id, media) in enumerate(media_notas_turma_filtrado.items()):\n",
    "        trace = go.Bar(\n",
    "            x=[i],  # Usar um índice como valor no eixo X\n",
    "            y=[media],  # Média das notas\n",
    "            name=f'Turma {turma_id}'\n",
    "        )\n",
    "        data.append(trace)\n",
    "        tickvals.append(i)  # Adicionar o índice como valor de tick\n",
    "        ticktext.append(f'Turma {turma_id}')  # Adicionar o nome da turma como rótulo do tick\n",
    "\n",
    "    layout = go.Layout(\n",
    "        title='Média das Notas por Turma',\n",
    "        xaxis=dict(\n",
    "            title='Turma ID',\n",
    "            tickvals=tickvals,  # Valores dos ticks no eixo X\n",
    "            ticktext=ticktext  # Rótulos dos ticks no eixo X\n",
    "        ),\n",
    "        yaxis=dict(title='Média das Notas')\n",
    "    )\n",
    "\n",
    "    fig = go.Figure(data=data, layout=layout)\n",
    "\n",
    "    return fig"
   ]
  },
  {
   "cell_type": "code",
   "execution_count": 11,
   "metadata": {},
   "outputs": [],
   "source": [
    "# Callback para atualizar os KPIs com base nas turmas selecionadas\n",
    "@app.callback(\n",
    "    Output('kpis-container', 'children'),\n",
    "    [Input('dropdown-turma', 'value')]\n",
    ")\n",
    "def update_kpis(selected_turma_ids):\n",
    "    if not selected_turma_ids:  # Se nenhuma turma for selecionada, não faça nada\n",
    "        return [\n",
    "            html.Div([\n",
    "                html.H2('Média Total das Notas'),\n",
    "                html.H3(f'{media_total:.2f}')  # <- Verifique se media_total está definido corretamente\n",
    "            ], className='kpis'),\n",
    "            html.Div([\n",
    "                html.H2('Número de Disciplinas'),\n",
    "                html.H3(f'{num_disciplinas}')  # <- Verifique se num_disciplinas está definido corretamente\n",
    "            ], className='kpis'),\n",
    "            html.Div([\n",
    "                html.H2('Número de Alunos'),\n",
    "                html.H3(f'{num_alunos}')  # <- Verifique se num_alunos está definido corretamente\n",
    "            ], className='kpis')\n",
    "        ]\n",
    "\n",
    "    # Filtrar os DataFrames com base nas turmas selecionadas\n",
    "    turmas_selecionadas = turma_df[turma_df['id'].isin(selected_turma_ids)]\n",
    "    alunos_selecionados = aluno_df[aluno_df['id'].isin(turmas_selecionadas['aluno_id'].unique())]  # Corrigido aqui\n",
    "    notas_turmas_selecionadas = notas_aluno_agrupadas[notas_aluno_agrupadas['turma_id'].isin(selected_turma_ids)]\n",
    "\n",
    "    # Calcular as novas médias e contagens\n",
    "    nova_media_total = notas_turmas_selecionadas['media_final'].mean()  # <- Aqui estava o problema, verifique se a coluna 'media_final' existe em turmas_selecionadas\n",
    "    nova_num_disciplinas = len(turmas_selecionadas['disciplina_id'].unique())\n",
    "    nova_num_alunos = len(alunos_selecionados)\n",
    "\n",
    "    # Atualizar os KPIs com os novos valores\n",
    "    return [\n",
    "        html.Div([\n",
    "            html.H2('Média Total das Notas'),\n",
    "            html.H3(f'{nova_media_total:.2f}')\n",
    "        ], className='kpis'),\n",
    "        html.Div([\n",
    "            html.H2('Número de Disciplinas'),\n",
    "            html.H3(f'{nova_num_disciplinas}')\n",
    "        ], className='kpis'),\n",
    "        html.Div([\n",
    "            html.H2('Número de Alunos'),\n",
    "            html.H3(f'{nova_num_alunos}')\n",
    "        ], className='kpis')\n",
    "    ]\n"
   ]
  },
  {
   "cell_type": "markdown",
   "metadata": {},
   "source": [
    "### Parte 5: Componente Dropdown para Seleção de Turmas"
   ]
  },
  {
   "cell_type": "code",
   "execution_count": 12,
   "metadata": {},
   "outputs": [],
   "source": [
    "# Layout da aplicação\n",
    "app.layout = html.Div([\n",
    "    # KPIs\n",
    "    kpis_layout,\n",
    "    \n",
    "    # Gráfico de barras\n",
    "    grafico_layout,\n",
    "    \n",
    "    # Dropdown para seleção de turmas\n",
    "    dcc.Dropdown(\n",
    "        id='dropdown-turma',\n",
    "        options=[{'label': f'Turma {turma_id}', 'value': turma_id} for turma_id in turma_df['id'].unique()],\n",
    "        multi=True,\n",
    "        value=[]\n",
    "    )\n",
    "])"
   ]
  },
  {
   "cell_type": "markdown",
   "metadata": {},
   "source": [
    "### Parte 6: Layout Completo e Execução da Aplicação Dash"
   ]
  },
  {
   "cell_type": "code",
   "execution_count": 13,
   "metadata": {},
   "outputs": [
    {
     "data": {
      "text/html": [
       "\n",
       "        <iframe\n",
       "            width=\"100%\"\n",
       "            height=\"650\"\n",
       "            src=\"http://127.0.0.1:8050/\"\n",
       "            frameborder=\"0\"\n",
       "            allowfullscreen\n",
       "            \n",
       "        ></iframe>\n",
       "        "
      ],
      "text/plain": [
       "<IPython.lib.display.IFrame at 0x251199fef10>"
      ]
     },
     "metadata": {},
     "output_type": "display_data"
    }
   ],
   "source": [
    "# Layout completo da aplicação\n",
    "app.layout = html.Div([\n",
    "    # Dropdown para seleção de turmas\n",
    "    dcc.Dropdown(\n",
    "        id='dropdown-turma',\n",
    "        options=[{'label': f'Turma {turma_id}', 'value': turma_id} for turma_id in turma_df['id'].unique()],\n",
    "        multi=True,\n",
    "        value=[]\n",
    "    ),\n",
    "\n",
    "    # KPIs\n",
    "    kpis_layout,\n",
    "    \n",
    "    # Gráfico de barras\n",
    "    grafico_layout\n",
    "])\n",
    "\n",
    "# Executar a aplicação\n",
    "if __name__ == '__main__':\n",
    "    app.run_server(debug=True)"
   ]
  }
 ],
 "metadata": {
  "kernelspec": {
   "display_name": "projeto_engsoft",
   "language": "python",
   "name": "python3"
  },
  "language_info": {
   "codemirror_mode": {
    "name": "ipython",
    "version": 3
   },
   "file_extension": ".py",
   "mimetype": "text/x-python",
   "name": "python",
   "nbconvert_exporter": "python",
   "pygments_lexer": "ipython3",
   "version": "3.9.5"
  }
 },
 "nbformat": 4,
 "nbformat_minor": 2
}
