{
 "cells": [
  {
   "cell_type": "code",
   "execution_count": 1,
   "metadata": {},
   "outputs": [],
   "source": [
    "from faker import Faker\n",
    "import pandas as pd\n",
    "import random\n",
    "import dash\n",
    "import datetime\n",
    "import re\n",
    "import plotly.graph_objs as go\n",
    "from dash import Dash, dcc, html\n",
    "from dash.dependencies import Input, Output\n",
    "\n",
    "# Configurar o pandas para exibir todas as linhas e colunas\n",
    "pd.set_option('display.max_rows', None)\n",
    "pd.set_option('display.max_columns', None)"
   ]
  },
  {
   "cell_type": "markdown",
   "metadata": {},
   "source": [
    "# Criando Tabelas com dados fakes"
   ]
  },
  {
   "cell_type": "markdown",
   "metadata": {},
   "source": [
    "## Tabelas: Professor, Aluno e Disciplina"
   ]
  },
  {
   "cell_type": "code",
   "execution_count": null,
   "metadata": {},
   "outputs": [],
   "source": [
    "fake = Faker()\n",
    "\n",
    "# Criando a tabela Professor\n",
    "num_professores = 5\n",
    "professor_data = {\n",
    "    'id': range(1, num_professores + 1),\n",
    "    'nome': [fake.name() for _ in range(num_professores)],\n",
    "    'email': [fake.email() for _ in range(num_professores)]\n",
    "}\n",
    "professor_df = pd.DataFrame(professor_data)\n",
    "\n",
    "# Criando a tabela Aluno\n",
    "num_alunos = 20\n",
    "aluno_data = {\n",
    "    'id': range(1, num_alunos + 1),\n",
    "    'nome': [fake.name() for _ in range(num_alunos)]\n",
    "}\n",
    "aluno_df = pd.DataFrame(aluno_data)\n",
    "\n",
    "# Criando a tabela Disciplina\n",
    "num_dis = 5\n",
    "disciplina_data = {\n",
    "    'id': range(1, num_dis + 1),\n",
    "    'codigo': ['MAT', 'FIS', 'BIO', 'HIS', 'QUI'],\n",
    "    'nome': ['Matemática', 'Física', 'Biologia', 'História', 'Química']\n",
    "}\n",
    "disciplina_df = pd.DataFrame(disciplina_data)\n"
   ]
  },
  {
   "cell_type": "markdown",
   "metadata": {},
   "source": [
    "## Tabela: Turma"
   ]
  },
  {
   "cell_type": "code",
   "execution_count": null,
   "metadata": {},
   "outputs": [],
   "source": [
    "fake = Faker()\n",
    "\n",
    "# Criando a tabela Turma\n",
    "turma_data = []\n",
    "id = 1\n",
    "\n",
    "# Preencher os dados da turma para cada professor\n",
    "for index, row in professor_df.iterrows():\n",
    "    professor_id = row['id']\n",
    "    disciplina_id = index + 1\n",
    "\n",
    "    # Selecionar aleatoriamente 10 alunos para cada disciplina\n",
    "    alunos_ids = random.sample(range(1, num_alunos + 1), 10)\n",
    "    status = random.choice(['Em andamento', 'Notas pendentes', 'Finalizada'])  # Variando o status\n",
    "    \n",
    "    for aluno_id in alunos_ids:\n",
    "        turma_id = int(f\"{professor_id}{disciplina_id}\")\n",
    "        \n",
    "        # Primeira prova (entre março e abril)\n",
    "        turma_data.append({\n",
    "            'id': id,\n",
    "            'prof_disc_id': turma_id,\n",
    "            'professor_id': professor_id,\n",
    "            'disciplina_id': disciplina_id,\n",
    "            'aluno_id': aluno_id,\n",
    "            'started_at': fake.date_time_between_dates(datetime_start=pd.to_datetime('2023-03-01'), \n",
    "                                                       datetime_end=pd.to_datetime('2023-04-30')).strftime('%Y-%m-%d'),\n",
    "            'tipo': 'Semestral',\n",
    "            'status': 'Finalizada',\n",
    "            'logica_nota_final': '(P1+P2)/2',\n",
    "            'media_final_minima': 5.0\n",
    "        })\n",
    "        id += 1\n",
    "\n",
    "        # Segunda prova (entre maio e junho) e variamos o status\n",
    "        turma_data.append({\n",
    "            'id': id,\n",
    "            'prof_disc_id': turma_id,\n",
    "            'professor_id': professor_id,\n",
    "            'disciplina_id': disciplina_id,\n",
    "            'aluno_id': aluno_id,\n",
    "            'started_at': fake.date_time_between_dates(datetime_start=pd.to_datetime('2023-05-01'), \n",
    "                                                       datetime_end=pd.to_datetime('2023-06-30')).strftime('%Y-%m-%d'),\n",
    "            'tipo': 'Semestral',\n",
    "            'status': status,\n",
    "            'logica_nota_final': '(P1+P2)/2',\n",
    "            'media_final_minima': 5.0\n",
    "        })\n",
    "        id += 1\n",
    "\n",
    "turma_df = pd.DataFrame(turma_data)"
   ]
  },
  {
   "cell_type": "markdown",
   "metadata": {},
   "source": [
    "## Tabela: Nota"
   ]
  },
  {
   "cell_type": "code",
   "execution_count": null,
   "metadata": {},
   "outputs": [],
   "source": [
    "# Filtrar os dados da tabela turma_df para incluir apenas os casos em que o status é \"Finalizada\"\n",
    "turma_finalizada = turma_df[turma_df['status'] == 'Finalizada']\n",
    "\n",
    "# Criando a tabela Notas\n",
    "notas_data = []\n",
    "\n",
    "for index, row in turma_finalizada.iterrows():\n",
    "    turma_id = row['id']\n",
    "    aluno_id = row['aluno_id']\n",
    "    started_at = datetime.datetime.strptime(row['started_at'], '%Y-%m-%d')\n",
    "    \n",
    "    # Verificar o tipo de nota com base no started_at\n",
    "    if started_at.month in [3, 4]:\n",
    "        tipo_nota = 'P1'\n",
    "    elif started_at.month in [5, 6]:\n",
    "        tipo_nota = 'P2'\n",
    "    else:\n",
    "        continue  # Ignorar se o started_at estiver fora dos períodos desejados\n",
    "    \n",
    "    # Gerar notas para cada tipo (P1, P2)\n",
    "    nota = round(random.uniform(1, 10), 1)  # Gerando nota aleatória entre 1 e 10\n",
    "    notas_data.append({\n",
    "        'turma_id': turma_id,\n",
    "        'aluno_id': aluno_id,\n",
    "        'nota': nota,\n",
    "        'aval': tipo_nota\n",
    "    })\n",
    "\n",
    "notas_df = pd.DataFrame(notas_data)\n"
   ]
  },
  {
   "cell_type": "markdown",
   "metadata": {},
   "source": [
    "## Tabela: Media_Final"
   ]
  },
  {
   "cell_type": "code",
   "execution_count": null,
   "metadata": {},
   "outputs": [],
   "source": [
    "# Criando a tabela de notas finais por disciplina\n",
    "media_final_data = []\n",
    "\n",
    "# Iterar sobre cada disciplina na tabela de turma\n",
    "for disciplina_id in turma_df['disciplina_id'].unique():\n",
    "    # Filtrar as notas correspondentes à disciplina na tabela de notas\n",
    "    notas_disciplina = notas_df.merge(turma_df, left_on=['turma_id','aluno_id'], right_on=['id','aluno_id'])\n",
    "    notas_disciplina = notas_disciplina[(notas_disciplina['disciplina_id'] == disciplina_id)]\n",
    "\n",
    "    # Iterar sobre cada aluno na disciplina\n",
    "    for aluno_id in notas_disciplina['aluno_id'].unique():\n",
    "        # Obter a lógica de notas finais para a disciplina atual\n",
    "        logica_nota_final = turma_df.loc[turma_df['disciplina_id'] == disciplina_id, 'logica_nota_final'].iloc[0]\n",
    "        media_final_minima = turma_df.loc[turma_df['disciplina_id'] == disciplina_id, 'media_final_minima'].iloc[0]\n",
    "\n",
    "        # Usar expressão regular para encontrar todas as variáveis na lógica\n",
    "        variaveis = re.findall(r'\\b\\w+\\b', logica_nota_final)\n",
    "        variaveis = [var for var in variaveis if var[0].isalpha()]\n",
    "\n",
    "        # Inicializar um dicionário para armazenar as notas correspondentes a cada variável\n",
    "        notas_aluno = {}\n",
    "\n",
    "        # Iterar sobre as variáveis e buscar as notas correspondentes nas observações de avaliação\n",
    "        for var in variaveis:\n",
    "            nota = notas_disciplina[(notas_disciplina['aluno_id'] == aluno_id) & (notas_disciplina['aval'] == var)]['nota'].values\n",
    "            if nota.size > 0:\n",
    "                notas_aluno[var] = nota[0]\n",
    "\n",
    "        # Substituir as variáveis na lógica pelas notas correspondentes e calcular a nota final\n",
    "        try:\n",
    "            # Substituir as variáveis na string de lógica pelo valor correspondente\n",
    "            for var, val in notas_aluno.items():\n",
    "                logica_nota_final = logica_nota_final.replace(var, str(val))\n",
    "            nota_final = eval(logica_nota_final)\n",
    "            \n",
    "            # Adicionar os dados à tabela de notas finais por disciplina\n",
    "            media_final_data.append({\n",
    "                'disciplina_id': disciplina_id,\n",
    "                'aluno_id': aluno_id,\n",
    "                'nota_final': nota_final,\n",
    "                'aprovado': nota_final >= media_final_minima\n",
    "            })\n",
    "        except:\n",
    "            print(f'Não foi possível calcular a nota final para o aluno {aluno_id} na disciplina {disciplina_id}.')\n",
    "\n",
    "# Criar DataFrame para a tabela de notas finais por disciplina\n",
    "media_final_df = pd.DataFrame(media_final_data)\n"
   ]
  },
  {
   "cell_type": "markdown",
   "metadata": {},
   "source": [
    "# Exemplo"
   ]
  },
  {
   "cell_type": "code",
   "execution_count": null,
   "metadata": {},
   "outputs": [],
   "source": [
    "turma_df.loc[turma_df['aluno_id'] == 13]"
   ]
  },
  {
   "cell_type": "code",
   "execution_count": null,
   "metadata": {},
   "outputs": [],
   "source": [
    "notas_df.loc[notas_df['aluno_id'] == 13]"
   ]
  },
  {
   "cell_type": "code",
   "execution_count": null,
   "metadata": {},
   "outputs": [],
   "source": [
    "media_final_df.loc[media_final_df['aluno_id'] == 13]"
   ]
  }
 ],
 "metadata": {
  "kernelspec": {
   "display_name": "projeto_engsoft",
   "language": "python",
   "name": "python3"
  },
  "language_info": {
   "codemirror_mode": {
    "name": "ipython",
    "version": 3
   },
   "file_extension": ".py",
   "mimetype": "text/x-python",
   "name": "python",
   "nbconvert_exporter": "python",
   "pygments_lexer": "ipython3",
   "version": "3.9.5"
  }
 },
 "nbformat": 4,
 "nbformat_minor": 2
}
