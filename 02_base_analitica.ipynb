{
 "cells": [
  {
   "cell_type": "markdown",
   "metadata": {},
   "source": [
    "# Junção de uma grande base para facilitar os gráficos"
   ]
  },
  {
   "cell_type": "code",
   "execution_count": 3,
   "metadata": {},
   "outputs": [],
   "source": [
    "import pandas as pd\n",
    "from sqlalchemy import create_engine\n",
    "from models import Professor, Disciplina, Turma, Aluno, Nota"
   ]
  },
  {
   "cell_type": "markdown",
   "metadata": {},
   "source": [
    "## Junção das tabelas num pd.dataframe"
   ]
  },
  {
   "cell_type": "code",
   "execution_count": 4,
   "metadata": {},
   "outputs": [
    {
     "name": "stdout",
     "output_type": "stream",
     "text": [
      "Professores:\n",
      "   id            nome                  email       senha      papel\n",
      "0   1     Jacob Olson    shawn17@example.org  h+OX7&uY@S  Professor\n",
      "1   2      Dawn Hines    craig79@example.com  tA9GSSd^+D  Professor\n",
      "2   3   Denise Miller  charles06@example.com  8gd*o4Ej%F  Professor\n",
      "3   4  Theresa Mclean   qdaniels@example.com  J^43sWg&yn  Professor\n",
      "4   5  Jennifer Bruce    erica12@example.com  b#C8B2Qyj@  Professor\n",
      "\n",
      "Disciplinas:\n",
      "   id        nome  codigo\n",
      "0   1  Matemática  MAT101\n",
      "1   2      Física  FIS101\n",
      "2   3     Química  QUI101\n",
      "3   4    Biologia  BIO101\n",
      "4   5    História  HIS101\n",
      "\n",
      "Turmas:\n",
      "   id   ano semestre  disciplina_id\n",
      "0   1  2022        A              1\n",
      "1   2  2022        B              1\n",
      "2   3  2023        A              1\n",
      "3   4  2023        B              1\n",
      "4   5  2024        A              1\n",
      "\n",
      "Alunos:\n",
      "   id               nome matricula\n",
      "0   1      Ashley Moreno  13524582\n",
      "1   2  Mr. Daniel Miller  75694481\n",
      "2   3    Francisco Green  58288120\n",
      "3   4           John Lee  59728258\n",
      "4   5        Ryan Parker    221316\n",
      "\n",
      "Notas:\n",
      "   id  aluno_id  turma_id  notas\n",
      "0   1         1         1    7.0\n",
      "1   2         1         2    7.0\n",
      "2   3         1         3    8.0\n",
      "3   4         1         4    4.0\n",
      "4   5         1         5    4.0\n"
     ]
    }
   ],
   "source": [
    "# Criando a conexão com o banco de dados\n",
    "engine = create_engine('sqlite:///desempenho_academico.db')\n",
    "\n",
    "# Consulta ao banco de dados para obter os dados\n",
    "professores = pd.read_sql_table('professores', engine)\n",
    "disciplinas = pd.read_sql_table('disciplinas', engine)\n",
    "turmas = pd.read_sql_table('turmas', engine)\n",
    "alunos = pd.read_sql_table('alunos', engine)\n",
    "notas = pd.read_sql_table('notas', engine)\n",
    "\n",
    "# Exibindo as primeiras linhas de cada DataFrame\n",
    "print(\"Professores:\")\n",
    "print(professores.head())\n",
    "\n",
    "print(\"\\nDisciplinas:\")\n",
    "print(disciplinas.head())\n",
    "\n",
    "print(\"\\nTurmas:\")\n",
    "print(turmas.head())\n",
    "\n",
    "print(\"\\nAlunos:\")\n",
    "print(alunos.head())\n",
    "\n",
    "print(\"\\nNotas:\")\n",
    "print(notas.head())\n"
   ]
  },
  {
   "cell_type": "code",
   "execution_count": 35,
   "metadata": {},
   "outputs": [
    {
     "name": "stdout",
     "output_type": "stream",
     "text": [
      "\\junçao:\n",
      "   aluno_id  turma_id  notas     nome_aluno matricula   ano semestre  \\\n",
      "0         1         1    7.0  Ashley Moreno  13524582  2022        A   \n",
      "1         1         2    7.0  Ashley Moreno  13524582  2022        B   \n",
      "2         1         3    8.0  Ashley Moreno  13524582  2023        A   \n",
      "3         1         4    4.0  Ashley Moreno  13524582  2023        B   \n",
      "4         1         5    4.0  Ashley Moreno  13524582  2024        A   \n",
      "\n",
      "   disciplina_id nome_disciplina  codigo  professor_id nome_professor  \\\n",
      "0              1      Matemática  MAT101             1    Jacob Olson   \n",
      "1              1      Matemática  MAT101             1    Jacob Olson   \n",
      "2              1      Matemática  MAT101             1    Jacob Olson   \n",
      "3              1      Matemática  MAT101             1    Jacob Olson   \n",
      "4              1      Matemática  MAT101             1    Jacob Olson   \n",
      "\n",
      "                 email       senha      papel  \n",
      "0  shawn17@example.org  h+OX7&uY@S  Professor  \n",
      "1  shawn17@example.org  h+OX7&uY@S  Professor  \n",
      "2  shawn17@example.org  h+OX7&uY@S  Professor  \n",
      "3  shawn17@example.org  h+OX7&uY@S  Professor  \n",
      "4  shawn17@example.org  h+OX7&uY@S  Professor  \n"
     ]
    }
   ],
   "source": [
    "merged_data = pd.merge(pd.merge(notas, alunos, how='inner', left_on='aluno_id', right_on='id'),\n",
    "                       turmas, how='inner', left_on='turma_id', right_on='id')\n",
    "\n",
    "# Removendo colunas desnecessárias\n",
    "merged_data.drop(columns=['id_x', 'id_y'], inplace=True)\n",
    "\n",
    "merged_data = pd.merge(\n",
    "    pd.merge(merged_data, disciplinas, how='inner', left_on='disciplina_id', right_on='id'),\n",
    "    professores, how='inner', left_on='disciplina_id', right_on='id')\n",
    "\n",
    "# Removendo colunas desnecessárias\n",
    "merged_data.drop(columns=['id_x', 'id_y'], inplace=True)\n",
    "\n",
    "# Renomeando colunas\n",
    "merged_data.rename(columns={'nome_y': 'nome_disciplina', 'nome_x': 'nome_aluno', 'nome': 'nome_professor','id': 'professor_id'}, inplace=True)\n",
    "\n",
    "print(\"\\junçao:\")\n",
    "print(merged_data.head())"
   ]
  },
  {
   "cell_type": "markdown",
   "metadata": {},
   "source": [
    "## Exportanto a tabela"
   ]
  },
  {
   "cell_type": "code",
   "execution_count": 36,
   "metadata": {},
   "outputs": [],
   "source": [
    "# Salvando o DataFrame em um arquivo Excel\n",
    "merged_data.to_excel('dados_academicos.xlsx', index=False)"
   ]
  }
 ],
 "metadata": {
  "kernelspec": {
   "display_name": "projeto_engsoft",
   "language": "python",
   "name": "python3"
  },
  "language_info": {
   "codemirror_mode": {
    "name": "ipython",
    "version": 3
   },
   "file_extension": ".py",
   "mimetype": "text/x-python",
   "name": "python",
   "nbconvert_exporter": "python",
   "pygments_lexer": "ipython3",
   "version": "3.9.5"
  }
 },
 "nbformat": 4,
 "nbformat_minor": 2
}
