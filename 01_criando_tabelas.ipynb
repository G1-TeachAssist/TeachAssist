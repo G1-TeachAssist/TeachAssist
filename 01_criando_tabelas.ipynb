{
 "cells": [
  {
   "cell_type": "code",
   "execution_count": null,
   "metadata": {},
   "outputs": [],
   "source": [
    "from sqlalchemy import create_engine\n",
    "from sqlalchemy.orm import sessionmaker\n",
    "from faker import Faker\n",
    "from models import Professor, Disciplina, Turma, Aluno, Nota, Base"
   ]
  },
  {
   "cell_type": "markdown",
   "metadata": {},
   "source": [
    "## Relacionamentos:\n",
    "- Turma é a combinação ANO|Semestre|Disciplina\n",
    "- Um professor pode estar associado a várias turmas, então é um relacionamento de um para muitos entre Professores e Turmas.\n",
    "- Cada professor só está associado a uma Disciplina (id_disciplina = id_professor)\n",
    "- Uma disciplina pode ter várias turmas em diferentes anos e semestres, então é um relacionamento de um para muitos entre Disciplinas e Turmas.\n",
    "- Um aluno pode estar matriculado em várias turmas, então é um relacionamento de um para muitos entre Alunos e Turmas.\n",
    "- Cada registro de Nota está associado a um único aluno e a uma única turma, portanto, é um relacionamento de um para um entre Alunos, Turmas e Notas."
   ]
  },
  {
   "cell_type": "markdown",
   "metadata": {},
   "source": [
    "## Criação do database"
   ]
  },
  {
   "cell_type": "code",
   "execution_count": 1,
   "metadata": {},
   "outputs": [],
   "source": [
    "\n",
    "# Criando a conexão com o banco de dados\n",
    "engine = create_engine('sqlite:///desempenho_academico.db')\n",
    "\n",
    "# Criando as tabelas no banco de dados\n",
    "Base.metadata.create_all(engine)\n",
    "\n",
    "Session = sessionmaker(bind=engine)\n",
    "session = Session()\n",
    "\n",
    "# Instanciando Faker para geração de dados fictícios\n",
    "fake = Faker()\n",
    "\n",
    "# Populando tabela de professores\n",
    "for _ in range(5):\n",
    "    professor = Professor(\n",
    "        nome=fake.name(),\n",
    "        email=fake.email(),\n",
    "        senha=fake.password(),\n",
    "        papel='Professor'\n",
    "    )\n",
    "    session.add(professor)\n",
    "\n",
    "# Populando tabela de disciplinas\n",
    "disciplinas = [\n",
    "    {\"nome\": \"Matemática\", \"codigo\": \"MAT101\"},\n",
    "    {\"nome\": \"Física\", \"codigo\": \"FIS101\"},\n",
    "    {\"nome\": \"Química\", \"codigo\": \"QUI101\"},\n",
    "    {\"nome\": \"Biologia\", \"codigo\": \"BIO101\"},\n",
    "    {\"nome\": \"História\", \"codigo\": \"HIS101\"}\n",
    "]\n",
    "\n",
    "for disciplina_data in disciplinas:\n",
    "    disciplina = Disciplina(**disciplina_data)\n",
    "    session.add(disciplina)\n",
    "\n",
    "# Criando turmas para cada disciplina\n",
    "for disciplina in session.query(Disciplina):\n",
    "    for ano in range(2022, 2025):\n",
    "        for semestre in ['A', 'B']:\n",
    "            turma = Turma(\n",
    "                ano=ano,\n",
    "                semestre=semestre,\n",
    "                disciplina_id=disciplina.id\n",
    "            )\n",
    "            session.add(turma)\n",
    "\n",
    "# Populando tabela de alunos\n",
    "for _ in range(10):\n",
    "    aluno = Aluno(\n",
    "        nome=fake.name(),\n",
    "        matricula=fake.unique.random_number(digits=8)\n",
    "    )\n",
    "    session.add(aluno)\n",
    "\n",
    "# Populando tabela de notas\n",
    "for aluno in session.query(Aluno):\n",
    "    for turma in session.query(Turma):\n",
    "        nota = Nota(\n",
    "            aluno_id=aluno.id,\n",
    "            turma_id=turma.id,\n",
    "            notas=fake.random_int(min=0, max=10)\n",
    "        )\n",
    "        session.add(nota)\n",
    "\n",
    "# Commit para salvar as alterações no banco de dados\n",
    "session.commit()\n",
    "\n",
    "# Fechando a sessão\n",
    "session.close()\n"
   ]
  }
 ],
 "metadata": {
  "kernelspec": {
   "display_name": "projeto_engsoft",
   "language": "python",
   "name": "python3"
  },
  "language_info": {
   "codemirror_mode": {
    "name": "ipython",
    "version": 3
   },
   "file_extension": ".py",
   "mimetype": "text/x-python",
   "name": "python",
   "nbconvert_exporter": "python",
   "pygments_lexer": "ipython3",
   "version": "3.9.5"
  }
 },
 "nbformat": 4,
 "nbformat_minor": 2
}
